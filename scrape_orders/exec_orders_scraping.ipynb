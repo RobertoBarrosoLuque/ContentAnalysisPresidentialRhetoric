{
 "cells": [
  {
   "cell_type": "markdown",
   "metadata": {},
   "source": [
    "# Code for scraping executive orders"
   ]
  },
  {
   "cell_type": "markdown",
   "metadata": {},
   "source": [
    "The following code scrapes executive orders from the Federal Register. NOTE: The csv files containing the links to the executive orders can be downloaded here: https://www.federalregister.gov/presidential-documents/executive-orders."
   ]
  },
  {
   "cell_type": "code",
   "execution_count": 22,
   "metadata": {},
   "outputs": [],
   "source": [
    "import pandas as pd\n",
    "import regex as re\n",
    "import requests\n",
    "from bs4 import BeautifulSoup"
   ]
  },
  {
   "cell_type": "code",
   "execution_count": 13,
   "metadata": {},
   "outputs": [],
   "source": [
    "def gen_text(html_link):\n",
    "    html = requests.get(html_link)\n",
    "    soup = BeautifulSoup(html.text)\n",
    "    xml_links = []\n",
    "    for link in soup.body.findAll('a', href=re.compile(r'^https://www.federalregister.+.xml?')):\n",
    "        xml_links.append(link['href'])\n",
    "    if not xml_links:\n",
    "        print('no xml links found')\n",
    "        print('associated html link is: ', html_link)\n",
    "\n",
    "    elif len(xml_links) > 1:\n",
    "        print('more than one xml link')\n",
    "        print('associated html link is: ', html_link)\n",
    "    else:\n",
    "        return get_xml_text(xml_links[0])"
   ]
  },
  {
   "cell_type": "code",
   "execution_count": 14,
   "metadata": {},
   "outputs": [],
   "source": [
    "def get_xml_text(xml_link):\n",
    "    txt = requests.get(xml_link)\n",
    "    txt.encoding = txt.apparent_encoding\n",
    "    soup = BeautifulSoup(txt.text)    # txt is simply the a string with your XML file\n",
    "    return soup.get_text()"
   ]
  },
  {
   "cell_type": "code",
   "execution_count": 40,
   "metadata": {},
   "outputs": [],
   "source": [
    "def gen_text_no_xml(html_link):\n",
    "    '''\n",
    "    Retrieves text from older executive orders that don't have associated xml files.\n",
    "    Returns a strong with the text of the executive order.\n",
    "    Inputs:\n",
    "        html_link: a string containing the html link.\n",
    "    '''\n",
    "    html = requests.get(html_link)\n",
    "    soup = BeautifulSoup(html.text)\n",
    "    htm_links = []\n",
    "    for link in soup.body.findAll('a', href=re.compile(r'^https://www.govinfo.+.htm?')):\n",
    "        #print(link['href'])\n",
    "        htm_links.append(link['href'])\n",
    "        #print(type(link['href']))\n",
    "    if not htm_links:\n",
    "        print('no htm links found')\n",
    "        print('associated html link is: ', html_link)\n",
    "\n",
    "    elif len(htm_links) > 1:\n",
    "        print('more than one htm link')\n",
    "        print('associated html link is: ', html_link)\n",
    "    else:\n",
    "        return get_xml_text(htm_links[0])"
   ]
  },
  {
   "cell_type": "code",
   "execution_count": 1,
   "metadata": {},
   "outputs": [],
   "source": [
    "files = ['/Users/lilygrier/Documents/Grad_School/Computational Content Analysis/documents_signed_by_barack_obama_of_type_presidential_document_and_of_presidential_document_type_executive_order.csv',\n",
    "         '/Users/lilygrier/Documents/Grad_School/Computational Content Analysis/documents_signed_by_george_w_bush_of_type_presidential_document_and_of_presidential_document_type_executive_order.csv',\n",
    "         '/Users/lilygrier/Documents/Grad_School/Computational Content Analysis/documents_signed_by_william_j_clinton_of_type_presidential_document_and_of_presidential_document_type_executive_order.csv',\n",
    "         '/Users/lilygrier/Documents/Grad_School/Computational Content Analysis/documents_signed_by_donald_trump_of_type_presidential_document_and_of_presidential_document_type_executive_order.csv']"
   ]
  },
  {
   "cell_type": "code",
   "execution_count": null,
   "metadata": {},
   "outputs": [],
   "source": [
    "df_list = []\n",
    "for filename in files:\n",
    "    df = pd.read_csv(filename, index_col=None, header=0)\n",
    "    df['president'] = re.search(r'_by_(\\w+)_of_type', filename)[1] # put president name in df\n",
    "    df_list.append(df)\n",
    "big_df = pd.concat(df_list, axis=0, ignore_index=True)"
   ]
  },
  {
   "cell_type": "code",
   "execution_count": 2,
   "metadata": {},
   "outputs": [],
   "source": [
    "dest_file = '/Users/lilygrier/Documents/Grad_School/Computational Content Analysis/exec_orders_w_text'"
   ]
  },
  {
   "cell_type": "code",
   "execution_count": null,
   "metadata": {},
   "outputs": [],
   "source": [
    "big_df.loc[:, 'order_text'] = big_df.html_url.apply(lambda x: gen_text(x))\n",
    "big_df.to_csv(dest_file)"
   ]
  },
  {
   "cell_type": "code",
   "execution_count": 3,
   "metadata": {},
   "outputs": [],
   "source": [
    "exec_orders = pd.read_csv('exec_orders_w_text')"
   ]
  },
  {
   "cell_type": "markdown",
   "metadata": {},
   "source": [
    "After scraping the files, I had to go back to the ones where no XML file was available and extract text using the `gen_text_no_xml()` function defined above."
   ]
  },
  {
   "cell_type": "code",
   "execution_count": 7,
   "metadata": {},
   "outputs": [
    {
     "data": {
      "text/html": [
       "<div>\n",
       "<style scoped>\n",
       "    .dataframe tbody tr th:only-of-type {\n",
       "        vertical-align: middle;\n",
       "    }\n",
       "\n",
       "    .dataframe tbody tr th {\n",
       "        vertical-align: top;\n",
       "    }\n",
       "\n",
       "    .dataframe thead th {\n",
       "        text-align: right;\n",
       "    }\n",
       "</style>\n",
       "<table border=\"1\" class=\"dataframe\">\n",
       "  <thead>\n",
       "    <tr style=\"text-align: right;\">\n",
       "      <th></th>\n",
       "      <th>Unnamed: 0</th>\n",
       "      <th>citation</th>\n",
       "      <th>document_number</th>\n",
       "      <th>end_page</th>\n",
       "      <th>html_url</th>\n",
       "      <th>pdf_url</th>\n",
       "      <th>type</th>\n",
       "      <th>subtype</th>\n",
       "      <th>publication_date</th>\n",
       "      <th>signing_date</th>\n",
       "      <th>start_page</th>\n",
       "      <th>title</th>\n",
       "      <th>disposition_notes</th>\n",
       "      <th>executive_order_number</th>\n",
       "      <th>order_text</th>\n",
       "    </tr>\n",
       "    <tr>\n",
       "      <th>president</th>\n",
       "      <th></th>\n",
       "      <th></th>\n",
       "      <th></th>\n",
       "      <th></th>\n",
       "      <th></th>\n",
       "      <th></th>\n",
       "      <th></th>\n",
       "      <th></th>\n",
       "      <th></th>\n",
       "      <th></th>\n",
       "      <th></th>\n",
       "      <th></th>\n",
       "      <th></th>\n",
       "      <th></th>\n",
       "      <th></th>\n",
       "    </tr>\n",
       "  </thead>\n",
       "  <tbody>\n",
       "    <tr>\n",
       "      <th>barack_obama</th>\n",
       "      <td>1</td>\n",
       "      <td>1</td>\n",
       "      <td>1</td>\n",
       "      <td>1</td>\n",
       "      <td>1</td>\n",
       "      <td>1</td>\n",
       "      <td>1</td>\n",
       "      <td>1</td>\n",
       "      <td>1</td>\n",
       "      <td>1</td>\n",
       "      <td>1</td>\n",
       "      <td>1</td>\n",
       "      <td>1</td>\n",
       "      <td>1</td>\n",
       "      <td>0</td>\n",
       "    </tr>\n",
       "    <tr>\n",
       "      <th>william_j_clinton</th>\n",
       "      <td>202</td>\n",
       "      <td>202</td>\n",
       "      <td>202</td>\n",
       "      <td>202</td>\n",
       "      <td>202</td>\n",
       "      <td>201</td>\n",
       "      <td>202</td>\n",
       "      <td>202</td>\n",
       "      <td>202</td>\n",
       "      <td>202</td>\n",
       "      <td>202</td>\n",
       "      <td>202</td>\n",
       "      <td>151</td>\n",
       "      <td>201</td>\n",
       "      <td>0</td>\n",
       "    </tr>\n",
       "  </tbody>\n",
       "</table>\n",
       "</div>"
      ],
      "text/plain": [
       "                   Unnamed: 0  citation  document_number  end_page  html_url  \\\n",
       "president                                                                      \n",
       "barack_obama                1         1                1         1         1   \n",
       "william_j_clinton         202       202              202       202       202   \n",
       "\n",
       "                   pdf_url  type  subtype  publication_date  signing_date  \\\n",
       "president                                                                   \n",
       "barack_obama             1     1        1                 1             1   \n",
       "william_j_clinton      201   202      202               202           202   \n",
       "\n",
       "                   start_page  title  disposition_notes  \\\n",
       "president                                                 \n",
       "barack_obama                1      1                  1   \n",
       "william_j_clinton         202    202                151   \n",
       "\n",
       "                   executive_order_number  order_text  \n",
       "president                                              \n",
       "barack_obama                            1           0  \n",
       "william_j_clinton                     201           0  "
      ]
     },
     "execution_count": 7,
     "metadata": {},
     "output_type": "execute_result"
    }
   ],
   "source": [
    "exec_orders[exec_orders.order_text.isnull()].groupby('president').count()"
   ]
  },
  {
   "cell_type": "code",
   "execution_count": 16,
   "metadata": {},
   "outputs": [],
   "source": [
    "null_orders = exec_orders[exec_orders.order_text.isnull()]"
   ]
  },
  {
   "cell_type": "code",
   "execution_count": 9,
   "metadata": {},
   "outputs": [],
   "source": [
    "clinton = '/Users/lilygrier/Documents/Grad_School/Computational Content Analysis/documents_signed_by_william_j_clinton_of_type_presidential_document_and_of_presidential_document_type_executive_order.csv'"
   ]
  },
  {
   "cell_type": "code",
   "execution_count": 11,
   "metadata": {},
   "outputs": [],
   "source": [
    "clinton = pd.read_csv(clinton)"
   ]
  },
  {
   "cell_type": "code",
   "execution_count": 41,
   "metadata": {},
   "outputs": [],
   "source": [
    "dest_file = '/Users/lilygrier/Documents/Grad_School/Computational Content Analysis/early_clinton_orders.csv'"
   ]
  },
  {
   "cell_type": "code",
   "execution_count": 42,
   "metadata": {},
   "outputs": [
    {
     "name": "stdout",
     "output_type": "stream",
     "text": [
      "more than one htm link\n",
      "associated html link is:  https://www.federalregister.gov/documents/1998/05/19/98-13552/federalism\n",
      "more than one htm link\n",
      "associated html link is:  https://www.federalregister.gov/documents/1997/02/14/97-3992/advisory-committee-on-high-performance-computing-and-communications-information-technology-and-the\n"
     ]
    },
    {
     "name": "stderr",
     "output_type": "stream",
     "text": [
      "/opt/anaconda3/lib/python3.7/site-packages/pandas/core/indexing.py:1745: SettingWithCopyWarning: \n",
      "A value is trying to be set on a copy of a slice from a DataFrame.\n",
      "Try using .loc[row_indexer,col_indexer] = value instead\n",
      "\n",
      "See the caveats in the documentation: https://pandas.pydata.org/pandas-docs/stable/user_guide/indexing.html#returning-a-view-versus-a-copy\n",
      "  isetter(ilocs[0], value)\n"
     ]
    }
   ],
   "source": [
    "null_orders.loc[:, 'order_text'] = null_orders.html_url.apply(lambda x: gen_text_no_xml(x))\n",
    "#null_orders.to_csv(dest_file)"
   ]
  },
  {
   "cell_type": "code",
   "execution_count": 43,
   "metadata": {},
   "outputs": [],
   "source": [
    "null_orders.to_csv(dest_file)"
   ]
  },
  {
   "cell_type": "code",
   "execution_count": 45,
   "metadata": {},
   "outputs": [],
   "source": [
    "not_null = exec_orders[exec_orders.order_text.notnull()]"
   ]
  },
  {
   "cell_type": "markdown",
   "metadata": {},
   "source": [
    "I then added Biden's orders (up until March 7, 2021), concatenated that to my previous dataset, and saved it as a new file."
   ]
  },
  {
   "cell_type": "code",
   "execution_count": 49,
   "metadata": {},
   "outputs": [],
   "source": [
    "# now add Biden orders (as of March 7, 2021)\n",
    "filename = '/Users/lilygrier/Documents/Grad_School/Computational Content Analysis/documents_signed_by_joe_biden_of_type_presidential_document_and_of_presidential_document_type_executive_order.csv'"
   ]
  },
  {
   "cell_type": "code",
   "execution_count": 50,
   "metadata": {},
   "outputs": [],
   "source": [
    "biden_df = pd.read_csv(filename, index_col=None, header=0)\n",
    "biden_df['president'] = re.search(r'_by_(\\w+)_of_type', filename)[1] # put president name in df\n",
    "#big_df = pd.concat(df_list, axis=0, ignore_index=True)\n"
   ]
  },
  {
   "cell_type": "code",
   "execution_count": 52,
   "metadata": {},
   "outputs": [],
   "source": [
    "biden_df.loc[:, 'order_text'] = biden_df.html_url.apply(lambda x: gen_text(x))"
   ]
  },
  {
   "cell_type": "code",
   "execution_count": 54,
   "metadata": {},
   "outputs": [],
   "source": [
    "biden_file = '/Users/lilygrier/Documents/Grad_School/Computational Content Analysis/biden_mar_7_21.csv'"
   ]
  },
  {
   "cell_type": "code",
   "execution_count": 55,
   "metadata": {},
   "outputs": [],
   "source": [
    "biden_df.to_csv(biden_file)"
   ]
  },
  {
   "cell_type": "code",
   "execution_count": 64,
   "metadata": {},
   "outputs": [],
   "source": [
    "full_exec_orders = pd.concat([not_null, null_orders, biden_df], axis=0, ignore_index=True)"
   ]
  },
  {
   "cell_type": "code",
   "execution_count": 65,
   "metadata": {},
   "outputs": [
    {
     "data": {
      "text/html": [
       "<div>\n",
       "<style scoped>\n",
       "    .dataframe tbody tr th:only-of-type {\n",
       "        vertical-align: middle;\n",
       "    }\n",
       "\n",
       "    .dataframe tbody tr th {\n",
       "        vertical-align: top;\n",
       "    }\n",
       "\n",
       "    .dataframe thead th {\n",
       "        text-align: right;\n",
       "    }\n",
       "</style>\n",
       "<table border=\"1\" class=\"dataframe\">\n",
       "  <thead>\n",
       "    <tr style=\"text-align: right;\">\n",
       "      <th></th>\n",
       "      <th>Unnamed: 0</th>\n",
       "      <th>citation</th>\n",
       "      <th>document_number</th>\n",
       "      <th>end_page</th>\n",
       "      <th>html_url</th>\n",
       "      <th>pdf_url</th>\n",
       "      <th>type</th>\n",
       "      <th>subtype</th>\n",
       "      <th>publication_date</th>\n",
       "      <th>signing_date</th>\n",
       "      <th>start_page</th>\n",
       "      <th>title</th>\n",
       "      <th>disposition_notes</th>\n",
       "      <th>executive_order_number</th>\n",
       "      <th>president</th>\n",
       "      <th>order_text</th>\n",
       "    </tr>\n",
       "  </thead>\n",
       "  <tbody>\n",
       "    <tr>\n",
       "      <th>900</th>\n",
       "      <td>680.0</td>\n",
       "      <td>63 FR 27651</td>\n",
       "      <td>98-13552</td>\n",
       "      <td>27654</td>\n",
       "      <td>https://www.federalregister.gov/documents/1998...</td>\n",
       "      <td>https://www.govinfo.gov/content/pkg/FR-1998-05...</td>\n",
       "      <td>Presidential Document</td>\n",
       "      <td>Executive Order</td>\n",
       "      <td>05/19/1998</td>\n",
       "      <td>05/14/1998</td>\n",
       "      <td>27651</td>\n",
       "      <td>Federalism</td>\n",
       "      <td>Supplements: EO 12866, September 30, 1993; EO ...</td>\n",
       "      <td>13083.0</td>\n",
       "      <td>william_j_clinton</td>\n",
       "      <td>None</td>\n",
       "    </tr>\n",
       "    <tr>\n",
       "      <th>949</th>\n",
       "      <td>729.0</td>\n",
       "      <td>62 FR 7131</td>\n",
       "      <td>97-3992</td>\n",
       "      <td>7132</td>\n",
       "      <td>https://www.federalregister.gov/documents/1997...</td>\n",
       "      <td>https://www.govinfo.gov/content/pkg/FR-1997-02...</td>\n",
       "      <td>Presidential Document</td>\n",
       "      <td>Executive Order</td>\n",
       "      <td>02/14/1997</td>\n",
       "      <td>02/11/1997</td>\n",
       "      <td>7131</td>\n",
       "      <td>Advisory Committee on High-Performance Computi...</td>\n",
       "      <td>Amended by: EO 13092, July 24, 1998; EO 13113,...</td>\n",
       "      <td>13035.0</td>\n",
       "      <td>william_j_clinton</td>\n",
       "      <td>None</td>\n",
       "    </tr>\n",
       "  </tbody>\n",
       "</table>\n",
       "</div>"
      ],
      "text/plain": [
       "     Unnamed: 0     citation document_number  end_page  \\\n",
       "900       680.0  63 FR 27651        98-13552     27654   \n",
       "949       729.0   62 FR 7131         97-3992      7132   \n",
       "\n",
       "                                              html_url  \\\n",
       "900  https://www.federalregister.gov/documents/1998...   \n",
       "949  https://www.federalregister.gov/documents/1997...   \n",
       "\n",
       "                                               pdf_url                   type  \\\n",
       "900  https://www.govinfo.gov/content/pkg/FR-1998-05...  Presidential Document   \n",
       "949  https://www.govinfo.gov/content/pkg/FR-1997-02...  Presidential Document   \n",
       "\n",
       "             subtype publication_date signing_date  start_page  \\\n",
       "900  Executive Order       05/19/1998   05/14/1998       27651   \n",
       "949  Executive Order       02/14/1997   02/11/1997        7131   \n",
       "\n",
       "                                                 title  \\\n",
       "900                                         Federalism   \n",
       "949  Advisory Committee on High-Performance Computi...   \n",
       "\n",
       "                                     disposition_notes  \\\n",
       "900  Supplements: EO 12866, September 30, 1993; EO ...   \n",
       "949  Amended by: EO 13092, July 24, 1998; EO 13113,...   \n",
       "\n",
       "     executive_order_number          president order_text  \n",
       "900                 13083.0  william_j_clinton       None  \n",
       "949                 13035.0  william_j_clinton       None  "
      ]
     },
     "execution_count": 65,
     "metadata": {},
     "output_type": "execute_result"
    }
   ],
   "source": [
    "# delete two clinton orders that didn't have text readily available\n",
    "full_exec_orders[full_exec_orders.order_text.isnull()]"
   ]
  },
  {
   "cell_type": "code",
   "execution_count": 66,
   "metadata": {},
   "outputs": [],
   "source": [
    "full_exec_orders = full_exec_orders[full_exec_orders.order_text.notnull()]"
   ]
  },
  {
   "cell_type": "code",
   "execution_count": 67,
   "metadata": {},
   "outputs": [],
   "source": [
    "full_file = '/Users/lilygrier/Documents/Grad_School/Computational Content Analysis/full_exec_orders_text.csv'"
   ]
  },
  {
   "cell_type": "code",
   "execution_count": 68,
   "metadata": {},
   "outputs": [],
   "source": [
    "full_exec_orders.to_csv(full_file)"
   ]
  }
 ],
 "metadata": {
  "kernelspec": {
   "display_name": "Python 3",
   "language": "python",
   "name": "python3"
  },
  "language_info": {
   "codemirror_mode": {
    "name": "ipython",
    "version": 3
   },
   "file_extension": ".py",
   "mimetype": "text/x-python",
   "name": "python",
   "nbconvert_exporter": "python",
   "pygments_lexer": "ipython3",
   "version": "3.7.6"
  }
 },
 "nbformat": 4,
 "nbformat_minor": 4
}
